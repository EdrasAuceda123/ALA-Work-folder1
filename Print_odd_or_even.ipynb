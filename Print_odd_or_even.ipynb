{
  "nbformat": 4,
  "nbformat_minor": 0,
  "metadata": {
    "colab": {
      "provenance": [],
      "authorship_tag": "ABX9TyPyr3kL2Mu107k14PYbhc9g",
      "include_colab_link": true
    },
    "kernelspec": {
      "name": "python3",
      "display_name": "Python 3"
    },
    "language_info": {
      "name": "python"
    }
  },
  "cells": [
    {
      "cell_type": "markdown",
      "metadata": {
        "id": "view-in-github",
        "colab_type": "text"
      },
      "source": [
        "<a href=\"https://colab.research.google.com/github/EdrasAuceda123/ALA-Work-folder1/blob/main/Print_odd_or_even.ipynb\" target=\"_parent\"><img src=\"https://colab.research.google.com/assets/colab-badge.svg\" alt=\"Open In Colab\"/></a>"
      ]
    },
    {
      "cell_type": "code",
      "execution_count": 9,
      "metadata": {
        "colab": {
          "base_uri": "https://localhost:8080/"
        },
        "id": "ARohz7zAdsDQ",
        "outputId": "3c4f481b-756e-45ce-bd51-60f5aa829047"
      },
      "outputs": [
        {
          "output_type": "stream",
          "name": "stdout",
          "text": [
            "1  is even\n",
            "2  is even\n",
            "3  is odd\n",
            "4  is even\n",
            "5  is even\n",
            "6  is odd\n",
            "7  is even\n",
            "8  is even\n",
            "9  is odd\n",
            "10  is even\n",
            "11  is even\n",
            "12  is odd\n",
            "13  is even\n",
            "14  is even\n",
            "15  is odd\n",
            "16  is even\n",
            "17  is even\n",
            "18  is odd\n",
            "19  is even\n",
            "20  is even\n",
            "21  is odd\n",
            "22  is even\n",
            "23  is even\n",
            "24  is odd\n",
            "25  is even\n",
            "26  is even\n",
            "27  is odd\n",
            "28  is even\n",
            "29  is even\n",
            "this number is outside of the loop 29\n"
          ]
        }
      ],
      "source": [
        "for num in range(1,30):\n",
        "  if num%3 ==0 and num!=0:\n",
        "    print (num, \" is odd\")\n",
        "  else:\n",
        "    print (num, \" is even\")\n",
        "print(\"this number is outside of the loop\" , num)\n",
        "\n"
      ]
    },
    {
      "cell_type": "code",
      "source": [
        "for num in range(2,40):\n",
        "  if num==0:\n",
        "    print (num, \" is zero\")\n",
        "  elif num%10 ==0 and num=0:\n",
        "    print (num, \" is a factor of 10\")\n",
        "    elif num%5 ==0 and num=0:\n",
        "      print (num, \" is a factor of 5\")\n",
        "      else:\n",
        "        print (num, \" is even\")"
      ],
      "metadata": {
        "colab": {
          "base_uri": "https://localhost:8080/",
          "height": 141
        },
        "id": "3iHU6mw3e2JY",
        "outputId": "e3b837b1-8ad9-403c-c956-5f24ae48824d"
      },
      "execution_count": 17,
      "outputs": [
        {
          "output_type": "error",
          "ename": "SyntaxError",
          "evalue": "invalid syntax (<ipython-input-17-299e0b922652>, line 4)",
          "traceback": [
            "\u001b[0;36m  File \u001b[0;32m\"<ipython-input-17-299e0b922652>\"\u001b[0;36m, line \u001b[0;32m4\u001b[0m\n\u001b[0;31m    elif num%10 ==0 and num=0:\u001b[0m\n\u001b[0m                           ^\u001b[0m\n\u001b[0;31mSyntaxError\u001b[0m\u001b[0;31m:\u001b[0m invalid syntax\n"
          ]
        }
      ]
    },
    {
      "cell_type": "code",
      "source": [],
      "metadata": {
        "id": "llBHf5Glgnkw"
      },
      "execution_count": null,
      "outputs": []
    }
  ]
}